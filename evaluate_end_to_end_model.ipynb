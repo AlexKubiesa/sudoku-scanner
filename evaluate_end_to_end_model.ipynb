{
 "cells": [
  {
   "cell_type": "markdown",
   "metadata": {},
   "source": [
    "# Evaluate end-to-end model\n",
    "\n",
    "In this notebook, we measure the performance of the end-to-end model on the overall task of taking a Sudoku puzzle image and extracting all the cell labels."
   ]
  },
  {
   "cell_type": "code",
   "execution_count": 1,
   "metadata": {},
   "outputs": [],
   "source": [
    "from pathlib import Path\n",
    "from tqdm import tqdm\n",
    "import numpy as np\n",
    "import tensorflow as tf\n",
    "import matplotlib.pyplot as plt\n",
    "\n",
    "from models.end_to_end.model import EndToEndModel\n",
    "from models.end_to_end.dataset import get_data"
   ]
  },
  {
   "cell_type": "code",
   "execution_count": 2,
   "metadata": {},
   "outputs": [],
   "source": [
    "model = EndToEndModel()"
   ]
  },
  {
   "cell_type": "code",
   "execution_count": 3,
   "metadata": {},
   "outputs": [],
   "source": [
    "# For model selection, use \"val\".\n",
    "# For final evaluation, use \"test\".\n",
    "\n",
    "split = \"test\"\n",
    "\n",
    "dataset = tf.data.Dataset.from_generator(lambda: get_data(split), output_types=(tf.float32, tf.int32))"
   ]
  },
  {
   "cell_type": "code",
   "execution_count": 4,
   "metadata": {},
   "outputs": [
    {
     "name": "stderr",
     "output_type": "stream",
     "text": [
      "80it [06:34,  4.93s/it]"
     ]
    },
    {
     "name": "stdout",
     "output_type": "stream",
     "text": [
      "Accuracy: 98.595679%\n"
     ]
    },
    {
     "name": "stderr",
     "output_type": "stream",
     "text": [
      "\n"
     ]
    }
   ],
   "source": [
    "accuracy = 0\n",
    "count = 0\n",
    "\n",
    "for image, labels in tqdm(dataset):\n",
    "    count += 1\n",
    "    labels_pred = model(image)\n",
    "    accuracy += np.mean(labels_pred == labels)\n",
    "\n",
    "accuracy /= count\n",
    "\n",
    "print(f\"Accuracy: {accuracy:%}\")"
   ]
  },
  {
   "cell_type": "markdown",
   "metadata": {},
   "source": [
    "## Debug"
   ]
  },
  {
   "cell_type": "code",
   "execution_count": null,
   "metadata": {},
   "outputs": [],
   "source": [
    "# Capture accuracy to use as a threshold on examples.\n",
    "\n",
    "accuracy_threshold = accuracy"
   ]
  },
  {
   "cell_type": "code",
   "execution_count": null,
   "metadata": {},
   "outputs": [],
   "source": [
    "# Find examples where the accuracy is worse than the average.\n",
    "\n",
    "bad_examples = []\n",
    "\n",
    "for image, labels in tqdm(dataset):\n",
    "    labels_pred = model(image)\n",
    "    accuracy = np.mean(labels_pred == labels)\n",
    "    if accuracy < accuracy_threshold:\n",
    "        bad_examples.append((image, labels, labels_pred, accuracy))\n",
    "\n",
    "print(f\"Found {len(bad_examples)} bad examples.\")"
   ]
  },
  {
   "cell_type": "code",
   "execution_count": null,
   "metadata": {},
   "outputs": [],
   "source": [
    "for i, example in enumerate(bad_examples):\n",
    "    print(f\"Accuracy on bad example {i:>2}: {example[-1]:>6.1%}\")"
   ]
  },
  {
   "cell_type": "code",
   "execution_count": null,
   "metadata": {},
   "outputs": [],
   "source": [
    "image, labels, labels_pred, accuracy = bad_examples[7]"
   ]
  },
  {
   "cell_type": "code",
   "execution_count": null,
   "metadata": {},
   "outputs": [],
   "source": [
    "# Show original image\n",
    "\n",
    "fig, ax = plt.subplots()\n",
    "\n",
    "ax.set_title(\"Original image\")\n",
    "ax.xaxis.set_visible(False)\n",
    "ax.yaxis.set_visible(False)\n",
    "ax.imshow(image)\n",
    "\n",
    "plt.show()"
   ]
  },
  {
   "cell_type": "code",
   "execution_count": null,
   "metadata": {},
   "outputs": [],
   "source": [
    "import PIL.Image\n",
    "import PIL.ImageDraw\n",
    "\n",
    "def draw_keypoints(image, keypoints, color):\n",
    "    image = tf.keras.preprocessing.image.array_to_img(image)\n",
    "    draw = PIL.ImageDraw.Draw(image)\n",
    "    draw.polygon(keypoints, outline=color, width=8)\n",
    "    image = tf.keras.preprocessing.image.img_to_array(image) / 255.0\n",
    "    return image"
   ]
  },
  {
   "cell_type": "code",
   "execution_count": null,
   "metadata": {},
   "outputs": [],
   "source": [
    "# Show image with predicted keypoints\n",
    "\n",
    "from models.end_to_end.model import relative_keypoints_to_absolute\n",
    "\n",
    "\n",
    "keypoints = model.puzzle_localizer(image)\n",
    "keypoints = relative_keypoints_to_absolute(image, keypoints)\n",
    "image_with_predicted_keypoints = draw_keypoints(image, keypoints, \"limegreen\")\n",
    "\n",
    "fig, ax = plt.subplots()\n",
    "\n",
    "ax.set_title(\"Image with predicted keypoints\")\n",
    "ax.xaxis.set_visible(False)\n",
    "ax.yaxis.set_visible(False)\n",
    "ax.imshow(image_with_predicted_keypoints)\n",
    "\n",
    "plt.show()"
   ]
  }
 ],
 "metadata": {
  "kernelspec": {
   "display_name": "venv",
   "language": "python",
   "name": "python3"
  },
  "language_info": {
   "codemirror_mode": {
    "name": "ipython",
    "version": 3
   },
   "file_extension": ".py",
   "mimetype": "text/x-python",
   "name": "python",
   "nbconvert_exporter": "python",
   "pygments_lexer": "ipython3",
   "version": "3.10.7"
  }
 },
 "nbformat": 4,
 "nbformat_minor": 2
}
