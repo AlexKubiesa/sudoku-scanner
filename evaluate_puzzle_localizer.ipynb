{
 "cells": [
  {
   "cell_type": "markdown",
   "metadata": {},
   "source": [
    "# Evaluate puzzle localizer\n",
    "\n",
    "In this notebook, we measure the performance of the puzzle localizer on the task of finding the keypoints (corners) of the Sudoku puzzle."
   ]
  },
  {
   "cell_type": "code",
   "execution_count": 1,
   "metadata": {},
   "outputs": [],
   "source": [
    "from pathlib import Path\n",
    "from tqdm import tqdm\n",
    "import numpy as np\n",
    "import tensorflow as tf\n",
    "import matplotlib.pyplot as plt\n",
    "\n",
    "from models.puzzle_localizer.model import HeuristicPuzzleLocalizer\n",
    "from models.puzzle_localizer.dataset import get_data"
   ]
  },
  {
   "cell_type": "code",
   "execution_count": 2,
   "metadata": {},
   "outputs": [],
   "source": [
    "model = HeuristicPuzzleLocalizer()"
   ]
  },
  {
   "cell_type": "code",
   "execution_count": 3,
   "metadata": {},
   "outputs": [],
   "source": [
    "# For model selection, use \"val\".\n",
    "# No need to use \"test\" here as we can evaluate the end-to-end model on the test set.\n",
    "\n",
    "split = \"val\"\n",
    "\n",
    "dataset = tf.data.Dataset.from_generator(lambda: get_data(split), output_types=(tf.float32, tf.float32))"
   ]
  },
  {
   "cell_type": "code",
   "execution_count": 8,
   "metadata": {},
   "outputs": [],
   "source": [
    "# We'll compare the MSE between the predicted and actual keypoints to this threshold for each example\n",
    "# to determine if it was localized correctly or not.\n",
    "\n",
    "# The threshold was obtained by visual inspection. If the MSE is lower than this, then the predicted\n",
    "# keypoints look almost indistinguishable from the real ones and there is a high chance that the cells\n",
    "# will be extracted correctly.\n",
    "\n",
    "MSE_THRESHOLD = 9e-5"
   ]
  },
  {
   "cell_type": "code",
   "execution_count": 10,
   "metadata": {},
   "outputs": [
    {
     "name": "stderr",
     "output_type": "stream",
     "text": [
      "80it [04:22,  3.28s/it]"
     ]
    },
    {
     "name": "stdout",
     "output_type": "stream",
     "text": [
      "Accuracy: 98.750000%\n",
      "MSE: 0.005074748279573526\n"
     ]
    },
    {
     "name": "stderr",
     "output_type": "stream",
     "text": [
      "\n"
     ]
    }
   ],
   "source": [
    "accuracy = 0\n",
    "mse = 0\n",
    "count = 0\n",
    "\n",
    "for image, keypoints in tqdm(dataset):\n",
    "    count += 1\n",
    "    keypoints_pred = model(image)\n",
    "    example_mse = tf.keras.metrics.mse(keypoints, keypoints_pred).numpy().item()\n",
    "    accuracy += (example_mse < MSE_THRESHOLD)\n",
    "    mse += example_mse\n",
    "\n",
    "accuracy /= count\n",
    "mse /= count\n",
    "\n",
    "print(f\"Accuracy: {accuracy:%}\")\n",
    "print(f\"MSE: {mse}\")"
   ]
  },
  {
   "cell_type": "markdown",
   "metadata": {},
   "source": [
    "## Debug"
   ]
  },
  {
   "cell_type": "code",
   "execution_count": 5,
   "metadata": {},
   "outputs": [],
   "source": [
    "# Capture mse to use as a threshold on examples.\n",
    "\n",
    "mse_threshold = mse"
   ]
  },
  {
   "cell_type": "code",
   "execution_count": 6,
   "metadata": {},
   "outputs": [
    {
     "name": "stderr",
     "output_type": "stream",
     "text": [
      "80it [04:24,  3.31s/it]"
     ]
    },
    {
     "name": "stdout",
     "output_type": "stream",
     "text": [
      "Found 1 bad examples.\n"
     ]
    },
    {
     "name": "stderr",
     "output_type": "stream",
     "text": [
      "\n"
     ]
    }
   ],
   "source": [
    "# Find examples where the mse is worse than the average.\n",
    "\n",
    "bad_examples = []\n",
    "\n",
    "for image, keypoints in tqdm(dataset):\n",
    "    keypoints_pred = model(image)\n",
    "    mse = tf.keras.metrics.mse(keypoints, keypoints_pred)\n",
    "    if mse > mse_threshold:\n",
    "        bad_examples.append((image, keypoints, keypoints_pred, mse))\n",
    "\n",
    "print(f\"Found {len(bad_examples)} bad examples.\")"
   ]
  },
  {
   "cell_type": "code",
   "execution_count": 7,
   "metadata": {},
   "outputs": [
    {
     "name": "stdout",
     "output_type": "stream",
     "text": [
      "MSE on bad example  0: 0.40563\n"
     ]
    }
   ],
   "source": [
    "for i, example in enumerate(bad_examples):\n",
    "    print(f\"MSE on bad example {i:>2}: {example[-1]:.5f}\")"
   ]
  },
  {
   "cell_type": "code",
   "execution_count": 15,
   "metadata": {},
   "outputs": [],
   "source": [
    "image, keypoints, keypoints_pred, mse = bad_examples[0]"
   ]
  },
  {
   "cell_type": "code",
   "execution_count": null,
   "metadata": {},
   "outputs": [],
   "source": [
    "# Show original image\n",
    "\n",
    "fig, ax = plt.subplots()\n",
    "\n",
    "ax.set_title(\"Original image\")\n",
    "ax.xaxis.set_visible(False)\n",
    "ax.yaxis.set_visible(False)\n",
    "ax.imshow(image)\n",
    "\n",
    "plt.show()"
   ]
  },
  {
   "cell_type": "code",
   "execution_count": 17,
   "metadata": {},
   "outputs": [],
   "source": [
    "import PIL.Image\n",
    "import PIL.ImageDraw\n",
    "\n",
    "def draw_keypoints(image, keypoints, color):\n",
    "    image = tf.keras.preprocessing.image.array_to_img(image)\n",
    "    draw = PIL.ImageDraw.Draw(image)\n",
    "    draw.polygon(keypoints, outline=color, width=8)\n",
    "    image = tf.keras.preprocessing.image.img_to_array(image) / 255.0\n",
    "    return image"
   ]
  },
  {
   "cell_type": "code",
   "execution_count": 18,
   "metadata": {},
   "outputs": [],
   "source": [
    "def relative_keypoints_to_absolute(image, keypoints):\n",
    "    # Scale the keypoints to be in terms of pixels\n",
    "    keypoints_x = keypoints[0::2]\n",
    "    keypoints_y = keypoints[1::2]\n",
    "    keypoints_x = keypoints_x * image.shape[1]\n",
    "    keypoints_y = keypoints_y * image.shape[0]\n",
    "    keypoints = tf.reshape(tf.stack([keypoints_x, keypoints_y], axis=-1), (-1,))\n",
    "    return keypoints"
   ]
  },
  {
   "cell_type": "code",
   "execution_count": null,
   "metadata": {},
   "outputs": [],
   "source": [
    "# Show image with predicted keypoints\n",
    "\n",
    "keypoints = model(image)\n",
    "keypoints = relative_keypoints_to_absolute(image, keypoints)\n",
    "image_with_predicted_keypoints = draw_keypoints(image, keypoints, \"limegreen\")\n",
    "\n",
    "fig, ax = plt.subplots()\n",
    "\n",
    "ax.set_title(\"Image with predicted keypoints\")\n",
    "ax.xaxis.set_visible(False)\n",
    "ax.yaxis.set_visible(False)\n",
    "ax.imshow(image_with_predicted_keypoints)\n",
    "\n",
    "plt.show()"
   ]
  },
  {
   "cell_type": "code",
   "execution_count": null,
   "metadata": {},
   "outputs": [],
   "source": [
    "image_grayscale = tf.image.rgb_to_grayscale(image)\n",
    "\n",
    "fig, ax = plt.subplots()\n",
    "\n",
    "ax.set_title(\"Grayscale image\")\n",
    "ax.xaxis.set_visible(False)\n",
    "ax.yaxis.set_visible(False)\n",
    "ax.imshow(image_grayscale, cmap=\"gray\")\n",
    "\n",
    "plt.show()"
   ]
  },
  {
   "cell_type": "code",
   "execution_count": null,
   "metadata": {},
   "outputs": [],
   "source": [
    "from models.puzzle_localizer.model import adaptive_threshold\n",
    "\n",
    "image_thresholded = adaptive_threshold(\n",
    "    tf.expand_dims(image_grayscale, axis=0), blur_size=model.blur_size, threshold=model.threshold\n",
    ")[0]\n",
    "\n",
    "fig, ax = plt.subplots()\n",
    "\n",
    "ax.set_title(\"Thresholded image\")\n",
    "ax.xaxis.set_visible(False)\n",
    "ax.yaxis.set_visible(False)\n",
    "ax.imshow(image_thresholded, cmap=\"gray\")\n",
    "\n",
    "plt.show()"
   ]
  }
 ],
 "metadata": {
  "kernelspec": {
   "display_name": "venv",
   "language": "python",
   "name": "python3"
  },
  "language_info": {
   "codemirror_mode": {
    "name": "ipython",
    "version": 3
   },
   "file_extension": ".py",
   "mimetype": "text/x-python",
   "name": "python",
   "nbconvert_exporter": "python",
   "pygments_lexer": "ipython3",
   "version": "3.10.7"
  }
 },
 "nbformat": 4,
 "nbformat_minor": 2
}
